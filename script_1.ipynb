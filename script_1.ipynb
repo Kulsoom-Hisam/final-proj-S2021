{
  "nbformat": 4,
  "nbformat_minor": 0,
  "metadata": {
    "colab": {
      "name": "script_1.ipynb",
      "provenance": [],
      "collapsed_sections": []
    },
    "kernelspec": {
      "name": "python3",
      "display_name": "Python 3"
    },
    "language_info": {
      "name": "python"
    }
  },
  "cells": [
    {
      "cell_type": "markdown",
      "metadata": {
        "id": "gZAjsiviUvK-"
      },
      "source": [
        "```\n",
        "Name: Kulsoom Hisam\n",
        "Date: 4/8/21\n",
        "Python version: 3\n",
        "input/output information: Using input function to input latitudes and longitudes of locations to check weather forecast, fixing spacing issues and making output uppercase.\n",
        "```\n"
      ]
    },
    {
      "cell_type": "code",
      "metadata": {
        "colab": {
          "base_uri": "https://localhost:8080/"
        },
        "id": "qilRswPytZKk",
        "outputId": "efe9783b-b546-4689-c283-bc2ddd57df75"
      },
      "source": [
        "# import required libraries\n",
        "import requests\n",
        "from bs4 import BeautifulSoup\n",
        "\n",
        "# Create an empty list to store response\n",
        "forecast = []\n",
        "\n",
        "## use input function to input the latitude and longitude, convert them to string\n",
        "lat=str(input(\"latitude: \"))\n",
        "lon=str(input(\"longitude: \"))\n",
        "\n",
        "\n",
        "# Create url for the requested location through string concatenation\n",
        "url = 'https://forecast.weather.gov/MapClick.php?lat='+lat+\"&lon=\"+lon\n",
        "# Check if the URL exists\n",
        "# print url\n",
        "\n",
        "# Send request to retrieve the web-page using the get() function from the requests library\n",
        "# The page variable stores the response from the web-page\n",
        "page = requests.get(url)\n",
        "\n",
        "# Create a BeautifulSoup object with the response from the URL\n",
        "# Access contents of the web-page using .content\n",
        "# html_parser is used since our page is in HTML format\n",
        "soup=BeautifulSoup(page.content,\"html.parser\")\n",
        "\n",
        "# Locate elements on page to be scraped\n",
        "# findAll() locates all occurrences of div tag with the given class name\n",
        "# stores it in the BeautifulSoup object\n",
        "weather_forecast = soup.findAll(\"li\", {\"class\": \"forecast-tombstone\"})\n",
        "\n",
        "# Loop through the BeautifulSoup object to extract text text from every class instance using .text\n",
        "# Store results in a list\n",
        "for i in weather_forecast:\n",
        "    i = i.text\n",
        "    forecast.append(i) \n",
        "\n",
        "# Print list to remove unicode characters\n",
        "#fix spacing issues using replace function\n",
        "for day in forecast:\n",
        "  day=day.replace('Clearthen','Clear then')\n",
        "  day=day.replace('SunnyHigh','Sunny High')\n",
        "  day=day.replace('IncreasingCloudsLow','Increasing Clouds Low')\n",
        "  day=day.replace('CloudyLow','Cloudy Low')\n",
        "  day=day.replace('SaturdayNight','Saturday Night')\n",
        "  day=day.replace('SundayNight','Sunday Night')\n",
        "  day=day.replace('ChanceShowers','Chance Showers')\n",
        "  day=day.replace('SlightChanceShowersLow','Slight Chance Showers Low')\n",
        "  day=day.replace('ChanceShowersHigh','Chance Showers High')\n",
        "  day=day.replace('ShowersLikelyLow','Showers Likely Low')\n",
        "  day=day.replace('Cloudythen','Cloudy then')\n",
        "  day=day.replace('thenMostly','then Mostly')\n",
        "  day=day.replace('MondayNight','Monday Night')\n",
        "  day=day.replace('CloudyHigh','Cloudy High')\n",
        "  day=day.replace('ShowersHigh','Showers High')\n",
        "  day=day.upper() #make output appear in uppercase\n",
        "  print(day)"
      ],
      "execution_count": 3,
      "outputs": [
        {
          "output_type": "stream",
          "text": [
            "latitude: 42.2634\n",
            "longitude: -71.8022\n",
            "\n",
            "\n",
            "TODAY\n",
            "SUNNY HIGH: 71 °F\n",
            "\n",
            "\n",
            "TONIGHT\n",
            "INCREASING CLOUDS LOW: 46 °F\n",
            "\n",
            "\n",
            "SATURDAY\n",
            "MOSTLY SUNNY HIGH: 73 °F\n",
            "\n",
            "\n",
            "SATURDAY NIGHT\n",
            "INCREASING CLOUDS LOW: 49 °F\n",
            "\n",
            "\n",
            "SUNDAY\n",
            "CHANCE SHOWERS HIGH: 60 °F\n",
            "\n",
            "\n",
            "SUNDAY NIGHT\n",
            "SHOWERS LIKELY LOW: 41 °F\n",
            "\n",
            "\n",
            "MONDAY\n",
            "CHANCE SHOWERS HIGH: 53 °F\n",
            "\n",
            "\n",
            "MONDAY NIGHT\n",
            "CHANCE SHOWERS THEN MOSTLY CLOUDY LOW: 41 °F\n",
            "\n",
            "\n",
            "TUESDAY\n",
            "MOSTLY CLOUDY HIGH: 60 °F\n"
          ],
          "name": "stdout"
        }
      ]
    }
  ]
}